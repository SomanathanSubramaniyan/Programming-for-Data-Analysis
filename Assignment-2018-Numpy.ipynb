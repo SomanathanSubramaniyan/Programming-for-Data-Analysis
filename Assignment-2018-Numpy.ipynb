{
 "cells": [
  {
   "cell_type": "markdown",
   "metadata": {},
   "source": [
    "# Programming for Data Analysis - Assignment 2018\n",
    "***\n",
    "**NumPy** is the fundamental package for scientific computing with Python. It contains among other things a powerful N-dimensional array object. Besides its obvious scientific uses, NumPy can also be used as an efficient multi-dimensional container of generic data\n",
    "***\n",
    "### Problem statement\n",
    "1. Explain the overall purpose of the package. \n",
    "2. Explain the use of the “Simple random data” and “Permutations” functions. \n",
    "3. Explain the use and purpose of at least ﬁve “Distributions” functions. \n",
    "4. Explain the use of seeds in generating pseudorandom numbers.\n",
    "***\n",
    "### References\n",
    "   - **Numpy Library** *https://docs.scipy.org/doc/numpy/reference/routines.random.html*\n",
    "   - *https://en.wikipedia.org*\n",
    "   - *https://en.wikipedia.org/wiki/Mersenne_Twister*\n",
    "   - *www.stat.yale.edu/Courses/1997-98/101/sample.htm*\n",
    "   - *https://realpython.com*\n",
    "   \n",
    "***"
   ]
  },
  {
   "cell_type": "markdown",
   "metadata": {},
   "source": [
    "## 1. Purpose of the Package (\"random\")\n",
    "\n",
    "***\n",
    "**Random Sampling** is a sampling method in which all members of a group (population) have an equal and independent chance of being selected.The Numpy.random package helps generate random numbers without wrinting underneath code. \n",
    "***\n",
    "\n",
    "**random package** is Key part of any simulation and it helps to generate random numbers and for this purpose, NumPy provides various routines in the submodule **random**. \n",
    "\n",
    "**Mersenne Twister** algorithum is used in numpy package to generate pseudorandom numbers. The Mersenne Twister is a pseudorandom number generator (PRNG) and it is a most widely used general-purpose PRNG.\n",
    "\n",
    "***\n",
    "Possible situation where random generations are required:\n",
    "   - Like pick a random element from a list\n",
    "   - Pick a random card from a deck\n",
    "   - flip a coin etc. \n",
    "***"
   ]
  },
  {
   "cell_type": "markdown",
   "metadata": {},
   "source": [
    "## 2. Use of \"Simple random data\" and \"Permutations\" functions\n",
    "\n",
    "***\n",
    "### <font color=blue> 2(a). Simple random data </font>\n",
    "*** \n",
    "**Simple random sampling/data** is the basic sampling technique to select a group of sample for study from a larger population. Each individual is chosen entirely by chance and each member of the population has an equal chance of being included in the sample. Every possible sample of a given size has the same chance of selection. \n",
    "<br>\n",
    "\n",
    "- All sample random data functions in numpy, create a array of the given shape with random sample values\n",
    "***\n",
    "- Random functions available in numpy package and examples\n",
    "    - <font color=blue>rand, randn, randint, random_integers, random_sample </font> \n",
    "    - <font color=green>random,randf,sample</font>\n",
    "    - <font color=blue>choice</font>\n",
    "    - <font color=blue>bytes</font>\n",
    "\n",
    "***\n",
    "**Use** \n",
    "   - Generating data encryption keys\n",
    "   - Simulating and modeling complex phenomena and for selecting random samples from larger data sets.\n",
    "***"
   ]
  },
  {
   "cell_type": "code",
   "execution_count": 5,
   "metadata": {},
   "outputs": [
    {
     "name": "stdout",
     "output_type": "stream",
     "text": [
      "Results of rand            function : array([0.19420313, 0.41632326])\n",
      "Results of randn           function : array([-0.46148969, -0.81431038,  0.60564174,  0.0010432 ,  0.27433789])\n",
      "Results of randint         function : array([4, 0, 2, 1, 4])\n",
      "Results of random_integers function : 4\n",
      "Results of random_sample   function : array([0.953304  , 0.87622919, 0.23162037, 0.58144826, 0.04404225])\n",
      "Results of random          function : array([0.83732929, 0.14021918, 0.81669416, 0.47377843, 0.77447221])\n",
      "Results of ranf            function : array([0.30984261, 0.13801164, 0.81044058, 0.42098735, 0.62862549])\n",
      "Results of sample          function : array([0.99670067, 0.09406011, 0.78769914, 0.84906414, 0.18204501])\n",
      "Results of choice          function : 0\n",
      "Results of bytes           function : b'\\xaaZ\\xddc\\x0e'\n"
     ]
    }
   ],
   "source": [
    "# Usage of Simple randam functions \n",
    "# rand, randn, randint, random_integers,random_sample,random,ranf,sample,choice and bytes\n",
    "import numpy as np\n",
    "#Ignore the depricated warnings\n",
    "import warnings\n",
    "warnings.filterwarnings(\"ignore\")\n",
    "\n",
    "#Print the function name and the results\n",
    "print (\"Results of rand            function\"+ \" : \"+ '{0!r}'.format(np.random.rand(2)))\n",
    "print (\"Results of randn           function\"+ \" : \"+ '{0!r}'.format(np.random.randn(5)))\n",
    "print (\"Results of randint         function\"+ \" : \"+ '{0!r}'.format(np.random.randint(5, size=5)))\n",
    "print (\"Results of random_integers function\"+ \" : \"+ '{0!r}'.format(np.random.random_integers(5)))\n",
    "print (\"Results of random_sample   function\"+ \" : \"+ '{0!r}'.format(np.random.random_sample(5,)))\n",
    "print (\"Results of random          function\"+ \" : \"+ '{0!r}'.format(np.random.random(5,)))\n",
    "print (\"Results of ranf            function\"+ \" : \"+ '{0!r}'.format(np.random.ranf(5,)))\n",
    "print (\"Results of sample          function\"+ \" : \"+ '{0!r}'.format(np.random.sample(5,)))\n",
    "print (\"Results of choice          function\"+ \" : \"+ '{0!r}'.format(np.random.choice(5,)))\n",
    "print (\"Results of bytes           function\"+ \" : \"+ '{0!r}'.format(np.random.bytes(5)))\n"
   ]
  },
  {
   "cell_type": "code",
   "execution_count": 8,
   "metadata": {},
   "outputs": [
    {
     "data": {
      "text/plain": [
       "'Mayo'"
      ]
     },
     "execution_count": 8,
     "metadata": {},
     "output_type": "execute_result"
    }
   ],
   "source": [
    "# Usage of Simple randam functions \n",
    "# rand, randn, randint, random_integers,random_sample,random,ranf,sample,choice and bytes\n",
    "import numpy as np\n",
    "\n",
    "## SELECT Random County from a given list\n",
    "counties = ['Dublin','Meath','Cork','Derry','Antrim','Carlow','Cavan','Clare','Donegal','Sligo','Louth','Mayo']\n",
    "np.random.choice(counties)"
   ]
  },
  {
   "cell_type": "markdown",
   "metadata": {},
   "source": [
    "***\n",
    "\n",
    "### <font color=blue> 2(b).Permutations </font>  \n",
    "\n",
    "The two permutation functions in scipy is mentioned below\n",
    " \n",
    "<font color=blue>shuffle</font>: Modify a sequence in-place by shuffling its contents.<br>\n",
    "<font color=blue>permutation</font>: Randomly permute a sequence, or return a permuted range.<br>\n",
    "\n",
    "***\n"
   ]
  },
  {
   "cell_type": "code",
   "execution_count": 9,
   "metadata": {},
   "outputs": [
    {
     "name": "stdout",
     "output_type": "stream",
     "text": [
      "Results of shuffle            function : array([3, 4, 0, 2, 1])\n",
      "Results of permutation        function : array([2, 3, 4, 5, 1])\n"
     ]
    }
   ],
   "source": [
    "# Usage of Permutations functions # import numpy library\n",
    "import numpy as np\n",
    "\n",
    "#Define the size, #Define the size, \n",
    "arr = np.arange(5)\n",
    "np.random.shuffle(arr)\n",
    "\n",
    "#Print the function name and the results\n",
    "print (\"Results of shuffle            function\"+ \" : \"+ '{0!r}'.format(arr))\n",
    "print (\"Results of permutation        function\"+ \" : \"+ '{0!r}'.format(np.random.permutation([1, 2, 3, 4, 5])))\n"
   ]
  },
  {
   "cell_type": "markdown",
   "metadata": {},
   "source": [
    "\n",
    "## 3. Use and purpose of ﬁve “Distributions” functions\n",
    "***"
   ]
  },
  {
   "cell_type": "markdown",
   "metadata": {},
   "source": [
    "**<font color=blue> 3 (a). numpy.random.power </font>**\n",
    "***\n",
    "**Power distribution** is a functional relationship between two quantities, where a relative change in one quantity results in a proportional relative change in the other quantity, independent of the initial size of those quantities: one quantity varies as a power of another. Example: considering the area of a square in terms of the length of its side, if the length is doubled, the area is multiplied by a factor of four\n",
    "\n",
    "\n",
    "**Purpose**\n",
    " - Generate samples in [0, 1] from a power distribution with positive exponent a - 1.\n",
    " - The power function distribution is just the inverse of the Pareto distribution  <br>\n",
    "\n",
    "**Use**\n",
    " - Used in modeling the over-reporting of insurance claims.\n",
    " ***"
   ]
  },
  {
   "cell_type": "code",
   "execution_count": 4,
   "metadata": {},
   "outputs": [
    {
     "data": {
      "text/plain": [
       "<Figure size 640x480 with 1 Axes>"
      ]
     },
     "metadata": {},
     "output_type": "display_data"
    }
   ],
   "source": [
    "#import numpy library and maplot library\n",
    "import numpy as np\n",
    "import matplotlib.pyplot as plt\n",
    "\n",
    "#variable declarations and value definitions.  a -> exponent; samples -> Number of Samples\n",
    "#Use random power to generate samples and store the values in the variable s \n",
    "a, samples = 10, 500\n",
    "s, x =  np.random.power(a, samples), np.linspace(0, 1, 100)\n",
    "# calculate the Y value using power distribution funtion\n",
    "y = a*x**(a-1.)\n",
    "# Plot the histogram with the values of s; ignore the warning messages\n",
    "count, bins, ignored = plt.hist(s)\n",
    "\n",
    "#calculate normalised y and plot the graph\n",
    "normed_y = samples*np.diff(bins)[0]*y\n",
    "plt.plot(x, normed_y)\n",
    "plt.show()"
   ]
  },
  {
   "cell_type": "markdown",
   "metadata": {},
   "source": [
    "**<font color=blue>3 (b). numpy.random.normal </font>**\n",
    "***\n",
    "**Normal distribution** is a probability function that describes how the values of a variable are distributed. It is a symmetric distribution where most of the observations cluster around the central peak and the probabilities for values further away from the mean tap\n",
    "\n",
    "**Purpose**\n",
    "- Generate random samples from a normal (Gaussian) distribution.\n",
    "\n",
    "**Use**\n",
    " - Statiscal theory\n",
    " - The normal distributions occurs often in nature.  it describes the commonly occurring distribution of \n",
    "   samples influenced by a large number of tiny, random disturbances, each with its own unique distribution. \n",
    "***"
   ]
  },
  {
   "cell_type": "code",
   "execution_count": 5,
   "metadata": {},
   "outputs": [
    {
     "data": {
      "image/png": "[encoded data removed]",
      "text/plain": [
       "<Figure size 432x288 with 1 Axes>"
      ]
     },
     "metadata": {
      "needs_background": "light"
     },
     "output_type": "display_data"
    }
   ],
   "source": [
    "#import numpy library and maplot library\n",
    "import numpy as np\n",
    "import matplotlib.pyplot as plt\n",
    "\n",
    "# mean and standard deviation\n",
    "mu, sigma  = 0, 0.1\n",
    "s  = np.random.normal(mu, sigma, 1000)\n",
    "\n",
    "#histogram  and plot the graph\n",
    "count, bins, ignored = plt.hist(s, 30, density=True)\n",
    "plt.plot(bins, 1/(sigma * np.sqrt(2 * np.pi)) * np.exp( - (bins - mu)**2 / (2 * sigma**2) ), linewidth=2, color='r')\n",
    "plt.show()"
   ]
  },
  {
   "cell_type": "markdown",
   "metadata": {},
   "source": [
    "**<font color=blue>3 (c). numpy.random.ZIPF </font>**\n",
    "***\n",
    "**Purpose**\n",
    "- Generate samples which confirms to Zipf's law. The Zipf distribution is also known as the zeta distribution. \n",
    "- It is a continuous probability distribution that satisfies Zipf’s law: the frequency of an item is inversely proportional to its rank in a frequency table.\n",
    "\n",
    "**Use**\n",
    "\n",
    " - Linguistics and insurance Modelling\n",
    " \n",
    " - A library has a few books that everyone wants to borrow (best sellers), a greater number of books that get borrowed occasionally (classics), and a vast number of books that hardly ever get borrowed.\n",
    "***"
   ]
  },
  {
   "cell_type": "code",
   "execution_count": 22,
   "metadata": {},
   "outputs": [
    {
     "data": {
      "image/png": "[encoded data removed]",
      "text/plain": [
       "<Figure size 432x288 with 1 Axes>"
      ]
     },
     "metadata": {
      "needs_background": "light"
     },
     "output_type": "display_data"
    }
   ],
   "source": [
    "import matplotlib.pyplot as plt\n",
    "from scipy import special\n",
    "\n",
    "# parameter and random sample generation\n",
    "a = 2\n",
    "s = np.random.zipf(a, 100)\n",
    "x = np.arange(1., 100.)\n",
    "y = x**(-a) / special.zetac(a)\n",
    "\n",
    "#histogram  and plot the graph\n",
    "count, bins, ignored = plt.hist(s[s<50], 50, density=True)\n",
    "plt.plot(x, y/max(y), linewidth=2, color='r')\n",
    "plt.show()"
   ]
  },
  {
   "cell_type": "markdown",
   "metadata": {},
   "source": [
    "**<font color=blue> 3 (d). numpy.random.binomial</font>**\n",
    "***\n",
    "**Purpose**\n",
    "- Generate samples from a binomial distribution with specified parameters,\n",
    "    - n trials and p probability of success where n an integer >= 0 and p is in the interval [0,1].   \n",
    "- Each replication of the process results in one of two possible outcomes (success or failure)\n",
    "- The replications are independent, meaning here that a success in one patient does not influence the probability of success in another.\n",
    "***\n",
    "\n",
    "**Use with an example**\n",
    "\n",
    "Say a likewood of a hurricane causing direct hit to a city is 0.03 (3%); if there are 5 potential hurricans in this season, cacluate the probability that all hurricans will miss the citry? \n",
    "\n",
    "- Input parameter: Success a direct hurricane hit (p = 0.03)\n",
    "- Input parameter: Number of Hurricans n=5  \n",
    "- Output: Calculate the probability that all will miss \n",
    "***"
   ]
  },
  {
   "cell_type": "code",
   "execution_count": 19,
   "metadata": {},
   "outputs": [
    {
     "name": "stdout",
     "output_type": "stream",
     "text": [
      "There is an 77.0% probability that all hurricans will miss hitting the city directly\n"
     ]
    }
   ],
   "source": [
    "import numpy as np\n",
    "\n",
    "#Calculate the percentage of survival probability\n",
    "percentage = (sum(np.random.binomial(5, 0.03, 100) == 0)/100) * 100\n",
    "\n",
    "print (\"There is an \" + str(percentage) + \"% probability that all hurricans will miss hitting the city directly\")"
   ]
  },
  {
   "cell_type": "markdown",
   "metadata": {},
   "source": [
    "***\n",
    "**Observation:** There is an 91.0% probability that all hurricans will miss hitting the city directly"
   ]
  },
  {
   "cell_type": "markdown",
   "metadata": {},
   "source": [
    "**<font color=blue> 3 (e). numpy.random.uniform</font>**\n",
    "***\n",
    "**Uniform Distribution** also called a rectangular distribution, is a probability distribution that has constant probability.\n",
    "\n",
    "**Purpose**\n",
    "- Generate uniformly distributed samples over the interval [low, high] (includes low, but excludes high). \n",
    "\n",
    "**Use with an example**\n",
    "- Say for example, the amount of time a person waits for a bus is distributed between zero and 15 minutes \n",
    "- The probability that a person waits fewer than 12.5 minutes is given below\n",
    "\n",
    "    - Let X = the number of minutes a person must wait for a bus. a = 0 and b = 15. \n",
    "    - x ~ U(0, 15). \n",
    "    - f(x) = 1/(b-a) = 1/15 \n",
    "    - Probability the person waits for 12.5 minutes = 1/15 * 12.5 = 0.833\n"
   ]
  },
  {
   "cell_type": "code",
   "execution_count": 8,
   "metadata": {},
   "outputs": [
    {
     "name": "stdout",
     "output_type": "stream",
     "text": [
      "2503116.1919538435\n",
      "2508602.0480472273\n",
      "2502747.1928388188\n",
      "2498473.507762343\n",
      "2496030.826059405\n"
     ]
    }
   ],
   "source": [
    "import numpy as np\n",
    "average = []\n",
    "\n",
    "for y in range (0,5):\n",
    "    \n",
    "    for i in range (0,100):\n",
    "        lst = np.random.uniform(1,5000000,100)\n",
    "        s= sum (lst)\n",
    "        l = len (lst)\n",
    "        average.append(s/l)\n",
    "    print(sum(average)/len(average))\n",
    "    "
   ]
  },
  {
   "cell_type": "markdown",
   "metadata": {},
   "source": [
    "***\n",
    "**Observation:** The sample values generated by the function is around average of the \"low\" and \"high\" values of the input parameters.\n",
    "    - example: np.random.uniform(1,5000,100) :: Low ->1  and High -> 5000\n",
    "    - The average of the result is between 2490 and 2503\n",
    "***"
   ]
  },
  {
   "cell_type": "markdown",
   "metadata": {},
   "source": [
    "\n",
    "## 4. Use of Seeds in generating Pseudorandom numbers\n",
    "***"
   ]
  },
  {
   "cell_type": "markdown",
   "metadata": {},
   "source": [
    "A **random seed**  is a number used to initialize a pseudorandom number generator. "
   ]
  },
  {
   "cell_type": "markdown",
   "metadata": {},
   "source": [
    "**Use**\n",
    "- Random seed is used in the field of computer security. Secret encryption key is pseudorandomly generated, having the seed will allow to obtain the key. \n",
    "- Random seeds are often generated from the state of the computer system or from a hardware random number generator. \n",
    "- CSPRNG -> cryptographically secure Pesudo Random number Generator. CSPRNGs are suitable for generating sensitive data such as passwords, authenticators, and tokens. Given a random string, there is realistically no way for Malicious Joe to determine what string came before or after that string in a sequence of random strings.\n",
    "- entropy -> Refers to the amount of randomness introduced or desired.\n"
   ]
  },
  {
   "cell_type": "code",
   "execution_count": 15,
   "metadata": {},
   "outputs": [
    {
     "name": "stdout",
     "output_type": "stream",
     "text": [
      "Results of uniform function : array([11.87766538, 43.665883  , 11.12923861])\n",
      "Results of uniform function : array([11.87766538, 43.665883  , 11.12923861])\n"
     ]
    }
   ],
   "source": [
    "# Usage of RandomState and See\n",
    "# The random values generate will not change with the mutliple execution of the script\n",
    "\n",
    "import numpy as np\n",
    "from time import time\n",
    "\n",
    "#Instantiate RandomState object and call the \"uniform\" distribution function\n",
    "R = np.random.RandomState(5)\n",
    "y = 1\n",
    "\n",
    "#Print the function name and the results\n",
    "for i in range (1,3):\n",
    "    R = np.random.RandomState(5)\n",
    "    print (\"Results of uniform function\"+ \" : \"+ '{0!r}'.format(R.uniform(1,50,3)))\n",
    "       "
   ]
  },
  {
   "cell_type": "markdown",
   "metadata": {},
   "source": [
    "***\n",
    "**Observation:** The repeated execution of the function \"uniform\" return the same random samples\n",
    "***\n",
    "## End"
   ]
  }
 ],
 "metadata": {
  "kernelspec": {
   "display_name": "Python 3",
   "language": "python",
   "name": "python3"
  },
  "language_info": {
   "codemirror_mode": {
    "name": "ipython",
    "version": 3
   },
   "file_extension": ".py",
   "mimetype": "text/x-python",
   "name": "python",
   "nbconvert_exporter": "python",
   "pygments_lexer": "ipython3",
   "version": "3.6.6"
  }
 },
 "nbformat": 4,
 "nbformat_minor": 2
}
