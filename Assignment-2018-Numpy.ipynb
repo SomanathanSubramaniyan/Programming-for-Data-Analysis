{
 "cells": [
  {
   "cell_type": "markdown",
   "metadata": {},
   "source": [
    "# Programming for Data Analysis - Assignment 2018\n",
    "***\n",
    "### NumPy \n",
    "NumPy is the fundamental package for scientific computing with Python. It contains among other things a powerful N-dimensional array object. Besides its obvious scientific uses, NumPy can also be used as an efficient multi-dimensional container of generic data. \n",
    "***\n",
    "### Problem statement\n",
    "1. Explain the overall purpose of the package. \n",
    "2. Explain the use of the “Simple random data” and “Permutations” functions. \n",
    "3. Explain the use and purpose of at least ﬁve “Distributions” functions. \n",
    "4. Explain the use of seeds in generating pseudorandom numbers.\n",
    "***\n",
    "### References\n",
    "***\n",
    "**[Numpy Library](https://docs.scipy.org/)** <br>\n",
    "*https://docs.scipy.org/doc/numpy/reference/routines.random.html*\n",
    "***\n",
    "\n",
    "**[Wikipedia](https://en.wikipedia.org/)**<br>\n",
    "*https://en.wikipedia.org*\n",
    "***"
   ]
  },
  {
   "cell_type": "markdown",
   "metadata": {},
   "source": [
    "## 1. Purpose of the Package\n",
    "\n",
    "***\n",
    "Random Sampling is a sampling method in which all members of a group (population) have an equal and independent chance of being selected.The Numpy.random package helps generate random numbers without wrinting underneath code. \n",
    "\n",
    "Examples:\n",
    "   - Like pick a random element from a list\n",
    "   - Pick a random card from a deck\n",
    "   - flip a coin etc. \n",
    "***"
   ]
  },
  {
   "cell_type": "markdown",
   "metadata": {},
   "source": [
    "\n",
    "## 2. Use of \"Simple random data\" and \"Permutations\" functions\n",
    "\n",
    "***\n",
    "\n",
    "### <font color=blue> 2(a). Simple random data </font>       \n",
    " - All functions create a array of the given shape with random sample values\n",
    " \n",
    "<font color=blue>rand   </font>: Populate it with random samples from a uniform distribution over (0,1)<br>\n",
    "<font color=blue>randn  </font>: Returns a random float sample with normal distribution of mean 0 and variance 1 <br>\n",
    "<font color=blue>randint</font>:Returns a random integers from low (inclusive) to high (exclusive)<br>\n",
    "<font color=blue>random_integers</font>:Returns integers of type np.int between low and high, inclusive.<br>\n",
    "<font color=blue>random_sample</font>:Returns random floats in the half open interval [0.0, 1.0}\n",
    " \n",
    " - <font color=green>random</font>:Returns random floats in the half open interval [0.0, 1.0}<br>\n",
    " - <font color=green>randf</font>:Returns random floats in the half open interval [0.0, 1.0} <br>\n",
    " - <font color=green>sample</font>:Returns random floats in the half open interval [0.0, 1.0} <br>\n",
    " \n",
    "<font color=blue>choice</font>: Generates a random sample from a given 1-D array <br>\n",
    "<font color=blue>bytes</font>: Return random bytes <br>\n",
    "\n",
    "***\n"
   ]
  },
  {
   "cell_type": "code",
   "execution_count": 1,
   "metadata": {},
   "outputs": [],
   "source": [
    "# Usage of Simple randam functions \n",
    "# rand, randn, randint, random_integers,random_sample,random,ranf,sample,choice and bytes\n",
    "\n",
    "import numpy as np\n",
    "\n",
    "#Ignore the depricated warnings\n",
    "import warnings\n",
    "warnings.filterwarnings(\"ignore\")\n"
   ]
  },
  {
   "cell_type": "code",
   "execution_count": 2,
   "metadata": {},
   "outputs": [
    {
     "name": "stdout",
     "output_type": "stream",
     "text": [
      "Results of rand            function : array([0.02597293, 0.25830491])\n",
      "Results of randn           function : array([ 1.24114106,  1.18676287,  0.05625415, -1.22619529,  2.10812809])\n",
      "Results of randint         function : array([3, 1, 4, 4, 0])\n",
      "Results of random_integers function : 2\n",
      "Results of random_sample   function : array([0.18052885, 0.86754401, 0.80136182, 0.33455783, 0.46717074])\n",
      "Results of random          function : array([0.89343801, 0.61864232, 0.07887399, 0.45831118, 0.58911757])\n",
      "Results of ranf            function : array([0.07868721, 0.30883242, 0.19748356, 0.29760181, 0.49154255])\n",
      "Results of sample          function : array([0.63781205, 0.17112855, 0.16811188, 0.77773195, 0.78372357])\n",
      "Results of choice          function : 0\n",
      "Results of bytes           function : b'\\t\\xd7\\x87\\x97F'\n"
     ]
    }
   ],
   "source": [
    "\n",
    "#Print the function name and the results\n",
    "\n",
    "print (\"Results of rand            function\"+ \" : \"+ '{0!r}'.format(np.random.rand(2)))\n",
    "print (\"Results of randn           function\"+ \" : \"+ '{0!r}'.format(np.random.randn(5)))\n",
    "print (\"Results of randint         function\"+ \" : \"+ '{0!r}'.format(np.random.randint(5, size=5)))\n",
    "print (\"Results of random_integers function\"+ \" : \"+ '{0!r}'.format(np.random.random_integers(5)))\n",
    "print (\"Results of random_sample   function\"+ \" : \"+ '{0!r}'.format(np.random.random_sample(5,)))\n",
    "print (\"Results of random          function\"+ \" : \"+ '{0!r}'.format(np.random.random(5,)))\n",
    "print (\"Results of ranf            function\"+ \" : \"+ '{0!r}'.format(np.random.ranf(5,)))\n",
    "print (\"Results of sample          function\"+ \" : \"+ '{0!r}'.format(np.random.sample(5,)))\n",
    "print (\"Results of choice          function\"+ \" : \"+ '{0!r}'.format(np.random.choice(5,)))\n",
    "print (\"Results of bytes           function\"+ \" : \"+ '{0!r}'.format(np.random.bytes(5)))\n"
   ]
  },
  {
   "cell_type": "markdown",
   "metadata": {},
   "source": [
    "***\n",
    "\n",
    "### <font color=blue> 2(b).Permutations </font>  \n",
    "\n",
    "The two permutation functions in scipy is mentioned below\n",
    " \n",
    "<font color=blue>shuffle</font>: Modify a sequence in-place by shuffling its contents.<br>\n",
    "<font color=blue>permutation</font>: Randomly permute a sequence, or return a permuted range.<br>\n",
    "\n",
    "***\n"
   ]
  },
  {
   "cell_type": "code",
   "execution_count": 3,
   "metadata": {},
   "outputs": [
    {
     "name": "stdout",
     "output_type": "stream",
     "text": [
      "Results of shuffle            function : array([4, 2, 0, 1, 3])\n",
      "Results of permutation        function : array([1, 5, 4, 3, 2])\n"
     ]
    }
   ],
   "source": [
    "# Usage of Permutations functions # import numpy library\n",
    "import numpy as np\n",
    "\n",
    "#Define the size, #Define the size, \n",
    "arr = np.arange(5)\n",
    "np.random.shuffle(arr)\n",
    "\n",
    "#Print the function name and the results\n",
    "print (\"Results of shuffle            function\"+ \" : \"+ '{0!r}'.format(arr))\n",
    "print (\"Results of permutation        function\"+ \" : \"+ '{0!r}'.format(np.random.permutation([1, 2, 3, 4, 5])))\n"
   ]
  },
  {
   "cell_type": "markdown",
   "metadata": {},
   "source": [
    "\n",
    "## 3. Use and purpose of ﬁve “Distributions” functions\n",
    "***"
   ]
  },
  {
   "cell_type": "markdown",
   "metadata": {},
   "source": [
    "**<font color=blue> 3 (a). numpy.random.power </font>**\n",
    "***\n",
    "**Power distribution** is a functional relationship between two quantities, where a relative change in one quantity results in a proportional relative change in the other quantity, independent of the initial size of those quantities: one quantity varies as a power of another. Example: considering the area of a square in terms of the length of its side, if the length is doubled, the area is multiplied by a factor of four\n",
    "\n",
    "\n",
    "**Purpose**\n",
    " - Generate samples in [0, 1] from a power distribution with positive exponent a - 1.\n",
    " - The power function distribution is just the inverse of the Pareto distribution  <br>\n",
    "\n",
    "**Use**\n",
    " - Used in modeling the over-reporting of insurance claims.\n",
    " ***"
   ]
  },
  {
   "cell_type": "code",
   "execution_count": 4,
   "metadata": {},
   "outputs": [
    {
     "data": {
      "text/plain": [
       "<Figure size 640x480 with 1 Axes>"
      ]
     },
     "metadata": {},
     "output_type": "display_data"
    }
   ],
   "source": [
    "#import numpy library and maplot library\n",
    "import numpy as np\n",
    "import matplotlib.pyplot as plt\n",
    "\n",
    "#variable declarations and value definitions.  a -> exponent; samples -> Number of Samples\n",
    "#Use random power to generate samples and store the values in the variable s \n",
    "a, samples = 10, 500\n",
    "s, x =  np.random.power(a, samples), np.linspace(0, 1, 100)\n",
    "# calculate the Y value using power distribution funtion\n",
    "y = a*x**(a-1.)\n",
    "# Plot the histogram with the values of s; ignore the warning messages\n",
    "count, bins, ignored = plt.hist(s)\n",
    "\n",
    "#calculate normalised y and plot the graph\n",
    "normed_y = samples*np.diff(bins)[0]*y\n",
    "plt.plot(x, normed_y)\n",
    "plt.show()"
   ]
  },
  {
   "cell_type": "markdown",
   "metadata": {},
   "source": [
    "**<font color=blue>3 (b). numpy.random.normal </font>**\n",
    "***\n",
    "**Normal distribution** is a probability function that describes how the values of a variable are distributed. It is a symmetric distribution where most of the observations cluster around the central peak and the probabilities for values further away from the mean tap\n",
    "\n",
    "**Purpose**\n",
    "- Generate random samples from a normal (Gaussian) distribution.\n",
    "\n",
    "**Use**\n",
    " - Statiscal theory\n",
    " - The normal distributions occurs often in nature.  it describes the commonly occurring distribution of \n",
    "   samples influenced by a large number of tiny, random disturbances, each with its own unique distribution. \n",
    "***"
   ]
  },
  {
   "cell_type": "code",
   "execution_count": 5,
   "metadata": {},
   "outputs": [
    {
     "data": {
      "image/png": "[encoded data removed]",
      "text/plain": [
       "<Figure size 432x288 with 1 Axes>"
      ]
     },
     "metadata": {
      "needs_background": "light"
     },
     "output_type": "display_data"
    }
   ],
   "source": [
    "#import numpy library and maplot library\n",
    "import numpy as np\n",
    "import matplotlib.pyplot as plt\n",
    "\n",
    "# mean and standard deviation\n",
    "mu, sigma  = 0, 0.1\n",
    "s  = np.random.normal(mu, sigma, 1000)\n",
    "\n",
    "#histogram  and plot the graph\n",
    "count, bins, ignored = plt.hist(s, 30, density=True)\n",
    "plt.plot(bins, 1/(sigma * np.sqrt(2 * np.pi)) * np.exp( - (bins - mu)**2 / (2 * sigma**2) ), linewidth=2, color='r')\n",
    "plt.show()"
   ]
  },
  {
   "cell_type": "markdown",
   "metadata": {},
   "source": [
    "**<font color=blue>3 (c). numpy.random.ZIPF </font>**\n",
    "***\n",
    "**Purpose**\n",
    "- Generate samples which confirms to Zipf's law. The Zipf distribution is also known as the zeta distribution. \n",
    "- It is a continuous probability distribution that satisfies Zipf’s law: the frequency of an item is inversely proportional to its rank in a frequency table.\n",
    "\n",
    "**Use**\n",
    " - Linguistics and insurance Modelling\n",
    "***"
   ]
  },
  {
   "cell_type": "code",
   "execution_count": 6,
   "metadata": {},
   "outputs": [
    {
     "data": {
      "image/png": "[encoded data removed]",
      "text/plain": [
       "<Figure size 432x288 with 1 Axes>"
      ]
     },
     "metadata": {
      "needs_background": "light"
     },
     "output_type": "display_data"
    }
   ],
   "source": [
    "import matplotlib.pyplot as plt\n",
    "from scipy import special\n",
    "\n",
    "# parameter and random sample generation\n",
    "a = 2\n",
    "s = np.random.zipf(a, 100)\n",
    "x = np.arange(1., 100.)\n",
    "y = x**(-a) / special.zetac(a)\n",
    "\n",
    "#histogram  and plot the graph\n",
    "count, bins, ignored = plt.hist(s[s<50], 50, density=True)\n",
    "plt.plot(x, y/max(y), linewidth=2, color='r')\n",
    "plt.show()"
   ]
  },
  {
   "cell_type": "markdown",
   "metadata": {},
   "source": [
    "**<font color=blue> 3 (d). numpy.random.binomial</font>**\n",
    "***\n",
    "**Purpose**\n",
    "- Generate samples from a binomial distribution with specified parameters,\n",
    "    - n trials and p probability of success where n an integer >= 0 and p is in the interval [0,1].   \n",
    "- Each replication of the process results in one of two possible outcomes (success or failure)\n",
    "- The replications are independent, meaning here that a success in one patient does not influence the probability of success in another.\n",
    "***\n",
    "\n",
    "**Use with an example**\n",
    "\n",
    "Consider that the likelihood a patient with a heart attack dies of the attack is 0.03 (3%)\n",
    "\n",
    "Suppose we have 5 patients, who suffer a heart attack, what is the probability that all will survive? \n",
    "\n",
    "- Input parameter: Success a fatal attack (p = 0.03)\n",
    "- Input parameter: Number of Patients n=5  \n",
    "- Output: Calculate the probability that all will survive\n",
    "***"
   ]
  },
  {
   "cell_type": "code",
   "execution_count": 7,
   "metadata": {},
   "outputs": [
    {
     "name": "stdout",
     "output_type": "stream",
     "text": [
      "There is an 87.0% probability that all patients will survive the attack\n"
     ]
    }
   ],
   "source": [
    "#Success a fatal attack (p = 0.03)\n",
    "#Number of Patients n=5  \n",
    "import numpy as np\n",
    "\n",
    "#Calculate the percentage of survival probability\n",
    "percentage = (sum(np.random.binomial(5, 0.03, 100) == 0)/100) * 100\n",
    "\n",
    "print (\"There is an \" + str(percentage) + \"% probability that all patients will survive the attack\")"
   ]
  },
  {
   "cell_type": "markdown",
   "metadata": {},
   "source": [
    "**<font color=blue> 3 (e). numpy.random.uniform</font>**\n",
    "***\n",
    "**Uniform Distribution** also called a rectangular distribution, is a probability distribution that has constant probability.\n",
    "\n",
    "**Purpose**\n",
    "- Generate uniformly distributed samples over the interval [low, high] (includes low, but excludes high). \n",
    "\n",
    "**Use with an example**\n",
    "- The amount of time, in minutes, that a person waits for a bus is uniformly distributed between zero and 15 minutes \n",
    "- What is the probability that a person waits fewer than 12.5 minutes? and on average how long the person wait \n",
    "\n",
    "    - Let X = the number of minutes a person must wait for a bus. a = 0 and b = 15. X~ U(0, 15). \n",
    "    - f(x) = 1/(b-a) = 1/15 \n",
    "    - Probability the person waits for 12.5 minutes = 1/15 * 12.5 = 0.833\n",
    "**Observations**\n",
    "- The average of the sample values generated by the function is always around half the value of the \"high\" value of the paramenter\n",
    "    - example: np.random.uniform(1,5000,100) :: Low ->1  and High -> 5000\n",
    "    - The average of the result is between 2490 and 2503\n",
    " ***"
   ]
  },
  {
   "cell_type": "code",
   "execution_count": 8,
   "metadata": {},
   "outputs": [
    {
     "name": "stdout",
     "output_type": "stream",
     "text": [
      "2482511.4606390037\n",
      "2489582.0865316107\n",
      "2491581.199701402\n",
      "2494362.3799839644\n",
      "2494630.611458339\n"
     ]
    }
   ],
   "source": [
    "import numpy as np\n",
    "average = []\n",
    "\n",
    "for y in range (0,5):\n",
    "    \n",
    "    for i in range (0,100):\n",
    "        lst = np.random.uniform(1,5000000,100)\n",
    "        s= sum (lst)\n",
    "        l = len (lst)\n",
    "        average.append(s/l)\n",
    "    print(sum(average)/len(average))\n",
    "    "
   ]
  },
  {
   "cell_type": "markdown",
   "metadata": {},
   "source": [
    "\n",
    "## 4. Use of Seeds in generating Pseudorandom numbers\n",
    "***"
   ]
  },
  {
   "cell_type": "markdown",
   "metadata": {},
   "source": [
    "A **random seed**  is a number used to initialize a pseudorandom number generator. "
   ]
  },
  {
   "cell_type": "markdown",
   "metadata": {},
   "source": [
    "**Use**\n",
    "- Random seed is used in the field of computer security. Secret encryption key is pseudorandomly generated, having the seed will allow to obtain the key. \n",
    "- Random seeds are often generated from the state of the computer system, a cryptographically secure pseudorandom number generator or from a hardware random number generator. "
   ]
  },
  {
   "cell_type": "code",
   "execution_count": 9,
   "metadata": {},
   "outputs": [
    {
     "name": "stdout",
     "output_type": "stream",
     "text": [
      "Results of uniform function : array([11.87766538, 43.665883  , 11.12923861])\n",
      "Results of uniform function : array([46.01193449, 24.93214825, 30.97544928])\n"
     ]
    }
   ],
   "source": [
    "# Usage of RandomState and See\n",
    "# The random values generate will not change with the mutliple execution of the script\n",
    "\n",
    "import numpy as np\n",
    "from time import time\n",
    "\n",
    "#Instantiate RandomState object and call the \"uniform\" distribution function\n",
    "R = np.random.RandomState(5)\n",
    "\n",
    "#Print the function name and the results\n",
    "for i in range (1,3):\n",
    "    print (\"Results of uniform function\"+ \" : \"+ '{0!r}'.format(R.uniform(1,50,3)))\n",
    " "
   ]
  },
  {
   "cell_type": "markdown",
   "metadata": {},
   "source": [
    "## End"
   ]
  }
 ],
 "metadata": {
  "kernelspec": {
   "display_name": "Python 3",
   "language": "python",
   "name": "python3"
  },
  "language_info": {
   "codemirror_mode": {
    "name": "ipython",
    "version": 3
   },
   "file_extension": ".py",
   "mimetype": "text/x-python",
   "name": "python",
   "nbconvert_exporter": "python",
   "pygments_lexer": "ipython3",
   "version": "3.6.6"
  }
 },
 "nbformat": 4,
 "nbformat_minor": 2
}
