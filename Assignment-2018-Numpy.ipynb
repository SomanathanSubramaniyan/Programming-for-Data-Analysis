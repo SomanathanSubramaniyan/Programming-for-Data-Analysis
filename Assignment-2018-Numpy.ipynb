{
 "cells": [
  {
   "cell_type": "markdown",
   "metadata": {},
   "source": [
    "# Programming for Data Analysis - Assignment 2018\n",
    "***\n",
    "### NumPy \n",
    "NumPy is the fundamental package for scientific computing with Python. It contains among other things a powerful N-dimensional array object. Besides its obvious scientific uses, NumPy can also be used as an efficient multi-dimensional container of generic data. \n",
    "***\n",
    "### Problem statement\n",
    "1. Explain the overall purpose of the package. \n",
    "2. Explain the use of the “Simple random data” and “Permutations” functions. \n",
    "3. Explain the use and purpose of at least ﬁve “Distributions” functions. \n",
    "4. Explain the use of seeds in generating pseudorandom numbers.\n",
    "***"
   ]
  },
  {
   "cell_type": "markdown",
   "metadata": {},
   "source": [
    "## 1. Purpose of the Package\n",
    "\n",
    "***\n",
    "\n",
    "Random Sampling is a sampling method in which all members of a group (population) have an equal and independent chance of being selected.The Numpy.random package helps generate random numbers like pick a random element from a list, pick a random card from a deck, flip a coin etc. without wrinting underneath code.\n",
    "\n",
    "***\n"
   ]
  },
  {
   "cell_type": "markdown",
   "metadata": {},
   "source": [
    "\n",
    "## 2. Use of \"Simple random data\" and \"Permutations\" functions\n",
    "\n",
    "***\n",
    "\n",
    "### <font color=blue> 2(a). Simple random data </font>       \n",
    " - All functions create a array of the given shape with random sample values\n",
    " \n",
    "<font color=blue>rand   </font>: Populate it with random samples from a uniform distribution over (0,1)<br>\n",
    "<font color=blue>randn  </font>: Returns a random float sample with normal distribution of mean 0 and variance 1 <br>\n",
    "<font color=blue>randint</font>:Returns a random integers from low (inclusive) to high (exclusive)<br>\n",
    "<font color=blue>random_integers</font>:Returns integers of type np.int between low and high, inclusive.<br>\n",
    "<font color=blue>random_sample</font>:Returns random floats in the half open interval [0.0, 1.0}\n",
    " \n",
    " - <font color=green>random</font>:Returns random floats in the half open interval [0.0, 1.0}<br>\n",
    " - <font color=green>randf</font>:Returns random floats in the half open interval [0.0, 1.0} <br>\n",
    " - <font color=green>sample</font>:Returns random floats in the half open interval [0.0, 1.0} <br>\n",
    " \n",
    "<font color=blue>choice</font>: Generates a random sample from a given 1-D array <br>\n",
    "<font color=blue>bytes</font>: Return random bytes <br>\n",
    "\n",
    "***\n"
   ]
  },
  {
   "cell_type": "code",
   "execution_count": 84,
   "metadata": {},
   "outputs": [],
   "source": [
    "# Usage of Simple randam functions \n",
    "# rand, randn, randint, random_integers,random_sample,random,ranf,sample,choice and bytes\n",
    "\n",
    "import numpy as np\n",
    "\n",
    "#Ignore the depricated warnings\n",
    "import warnings\n",
    "warnings.filterwarnings(\"ignore\")\n"
   ]
  },
  {
   "cell_type": "code",
   "execution_count": 85,
   "metadata": {},
   "outputs": [
    {
     "name": "stdout",
     "output_type": "stream",
     "text": [
      "Results of rand            function : array([0.09304248, 0.09586712])\n",
      "Results of randn           function : array([-0.20785   , -0.80311447,  0.39711842, -0.70023853, -0.17096448])\n",
      "Results of randint         function : array([2, 4, 3, 0, 1])\n",
      "Results of random_integers function : 4\n",
      "Results of random_sample   function : array([0.42744132, 0.31940484, 0.31555305, 0.08593688, 0.42939184])\n",
      "Results of random          function : array([0.70138648, 0.15270903, 0.79050119, 0.41158411, 0.90942842])\n",
      "Results of ranf            function : array([0.78448475, 0.29714586, 0.48130828, 0.90614495, 0.68596656])\n",
      "Results of sample          function : array([0.15853109, 0.66294932, 0.75122612, 0.68177723, 0.64336716])\n",
      "Results of choice          function : 4\n",
      "Results of bytes           function : b'9B(\\xe8\\x03'\n"
     ]
    }
   ],
   "source": [
    "\n",
    "#Print the function name and the results\n",
    "\n",
    "print (\"Results of rand            function\"+ \" : \"+ '{0!r}'.format(np.random.rand(2)))\n",
    "print (\"Results of randn           function\"+ \" : \"+ '{0!r}'.format(np.random.randn(5)))\n",
    "print (\"Results of randint         function\"+ \" : \"+ '{0!r}'.format(np.random.randint(5, size=5)))\n",
    "print (\"Results of random_integers function\"+ \" : \"+ '{0!r}'.format(np.random.random_integers(5)))\n",
    "print (\"Results of random_sample   function\"+ \" : \"+ '{0!r}'.format(np.random.random_sample(5,)))\n",
    "print (\"Results of random          function\"+ \" : \"+ '{0!r}'.format(np.random.random(5,)))\n",
    "print (\"Results of ranf            function\"+ \" : \"+ '{0!r}'.format(np.random.ranf(5,)))\n",
    "print (\"Results of sample          function\"+ \" : \"+ '{0!r}'.format(np.random.sample(5,)))\n",
    "print (\"Results of choice          function\"+ \" : \"+ '{0!r}'.format(np.random.choice(5,)))\n",
    "print (\"Results of bytes           function\"+ \" : \"+ '{0!r}'.format(np.random.bytes(5)))\n"
   ]
  },
  {
   "cell_type": "markdown",
   "metadata": {},
   "source": [
    "***\n",
    "\n",
    "### <font color=blue> 2(b).Permutations </font>       \n",
    " \n",
    "<font color=blue>shuffle</font>: Modify a sequence in-place by shuffling its contents.<br>\n",
    "<font color=blue>permutation</font>: Randomly permute a sequence, or return a permuted range.<br>\n",
    "\n",
    "***\n"
   ]
  },
  {
   "cell_type": "code",
   "execution_count": 86,
   "metadata": {},
   "outputs": [],
   "source": [
    "# Usage of Permutations functions \n",
    "# shuffle and permutation\n",
    "# import numpy library\n",
    "import numpy as np#\n",
    "\n",
    "#Define the size\n",
    "arr = np.arange(5)\n",
    "#Shuffle the results\n",
    "np.random.shuffle(arr)\n"
   ]
  },
  {
   "cell_type": "code",
   "execution_count": 87,
   "metadata": {},
   "outputs": [
    {
     "name": "stdout",
     "output_type": "stream",
     "text": [
      "Results of shuffle            function : array([3, 4, 2, 0, 1])\n",
      "Results of permutation        function : array([3, 4, 5, 1, 2])\n"
     ]
    }
   ],
   "source": [
    "#Print the function name and the results\n",
    "print (\"Results of shuffle            function\"+ \" : \"+ '{0!r}'.format(arr))\n",
    "print (\"Results of permutation        function\"+ \" : \"+ '{0!r}'.format(np.random.permutation([1, 2, 3, 4, 5])))"
   ]
  },
  {
   "cell_type": "markdown",
   "metadata": {},
   "source": [
    "\n",
    "## 3. Use and purpose of ﬁve “Distributions” functions\n",
    "***"
   ]
  },
  {
   "cell_type": "markdown",
   "metadata": {},
   "source": [
    "***1. <font color=blue> numpy.random.power </font>***\n",
    "***\n",
    "**Power distribution** is a functional relationship between two quantities, where a relative change in one quantity results in a proportional relative change in the other quantity, independent of the initial size of those quantities: one quantity varies as a power of another. Example: considering the area of a square in terms of the length of its side, if the length is doubled, the area is multiplied by a factor of four\n",
    "***\n",
    "\n",
    "**Purpose**\n",
    " - Draws samples in [0, 1] from a power distribution with positive exponent a - 1.\n",
    " - The power function distribution is just the inverse of the Pareto distribution  <br>\n",
    "\n",
    "**Use**\n",
    " - Used in modeling the over-reporting of insurance claims.\n",
    " ***"
   ]
  },
  {
   "cell_type": "code",
   "execution_count": 101,
   "metadata": {},
   "outputs": [],
   "source": [
    "#import numpy library and maplot library\n",
    "import numpy as np\n",
    "import matplotlib.pyplot as plt\n",
    "\n",
    "#variable declarations and value definitions.  a -> exponent; samples -> Number of Samples\n",
    "#Use random power to generate samples and store the values in the variable s \n",
    "a,samples = 10,500\n",
    "s = np.random.power(a, samples)\n",
    "x = np.linspace(0, 1, 100)\n",
    "\n",
    "# calculate the Y value using power distribution funtion\n",
    "y = a*x**(a-1.)"
   ]
  },
  {
   "cell_type": "code",
   "execution_count": 102,
   "metadata": {},
   "outputs": [
    {
     "data": {
      "image/png": "[encoded data removed]",
      "text/plain": [
       "<Figure size 432x288 with 1 Axes>"
      ]
     },
     "metadata": {
      "needs_background": "light"
     },
     "output_type": "display_data"
    }
   ],
   "source": [
    "# Plot the histogram with the values of s; ignore the warning messages\n",
    "count, bins, ignored = plt.hist(s)\n",
    "\n",
    "#calculate normalised y and plot the graph\n",
    "normed_y = samples*np.diff(bins)[0]*y\n",
    "plt.plot(x, normed_y)\n",
    "plt.show()"
   ]
  },
  {
   "cell_type": "markdown",
   "metadata": {},
   "source": [
    "***2. <font color=blue> numpy.random.normal </font>***\n",
    "***\n",
    "\n",
    "**Normal distribution** is a probability function that describes how the values of a variable are distributed. It is a symmetric distribution where most of the observations cluster around the central peak and the probabilities for values further away from the mean tap\n",
    "\n",
    "***\n",
    "**Purpose**\n",
    "- Draw random samples from a normal (Gaussian) distribution.\n",
    "- The normal distributions occurs often in nature.  it describes the commonly occurring distribution of \n",
    "   samples influenced by a large number of tiny, random disturbances, each with its own unique distribution. \n",
    "\n",
    "**Use**\n",
    " - Statiscal theory\n"
   ]
  },
  {
   "cell_type": "code",
   "execution_count": 8,
   "metadata": {},
   "outputs": [
    {
     "data": {
      "image/png": "[encoded data removed]",
      "text/plain": [
       "<Figure size 432x288 with 1 Axes>"
      ]
     },
     "metadata": {
      "needs_background": "light"
     },
     "output_type": "display_data"
    }
   ],
   "source": [
    "#import numpy library and maplot library\n",
    "import numpy as np\n",
    "import matplotlib.pyplot as plt\n",
    "\n",
    "# mean and standard deviation\n",
    "mu, sigma = 0, 0.1 \n",
    "s = np.random.normal(mu, sigma, 1000)\n",
    "\n",
    "#histogram \n",
    "count, bins, ignored = plt.hist(s, 30, density=True)\n",
    "\n",
    "plt.plot(bins, 1/(sigma * np.sqrt(2 * np.pi)) *\n",
    "               np.exp( - (bins - mu)**2 / (2 * sigma**2) ), linewidth=2, color='r')\n",
    "plt.show()"
   ]
  },
  {
   "cell_type": "code",
   "execution_count": 31,
   "metadata": {},
   "outputs": [
    {
     "name": "stdout",
     "output_type": "stream",
     "text": [
      "[-5.  -4.5 -4.  -3.5 -3.  -2.5 -2.  -1.5 -1.  -0.5  0.   0.5  1.   1.5\n",
      "  2.   2.5  3.   3.5  4.   4.5]\n",
      "[ 9.34956233  8.05227894  8.30199111  8.66363559  9.40400398  6.89918271\n",
      "  9.32935177  8.45745835  8.11368679  9.33813391  8.48906333  8.07996942\n",
      "  8.8147143   9.27643818  8.49016     9.48642909  9.808783   10.06789929\n",
      "  7.35895325  9.37370302]\n"
     ]
    },
    {
     "data": {
      "image/png": "[encoded data removed]",
      "text/plain": [
       "<Figure size 432x288 with 1 Axes>"
      ]
     },
     "metadata": {
      "needs_background": "light"
     },
     "output_type": "display_data"
    }
   ],
   "source": [
    "#import numpy library\n",
    "import numpy as np\n",
    "import matplotlib.pyplot as plt\n",
    "\n",
    "x = np.arange(-5,5,.5)\n",
    "y=  10 + np.random.normal(-1,1.0,x.size)\n",
    "\n",
    "print (x)\n",
    "print (y)\n",
    "plt.plot(x,y,linewidth=2,color='r')\n",
    "plt.show()\n",
    "\n",
    "\n",
    "    "
   ]
  },
  {
   "cell_type": "code",
   "execution_count": null,
   "metadata": {},
   "outputs": [],
   "source": []
  }
 ],
 "metadata": {
  "kernelspec": {
   "display_name": "Python 3",
   "language": "python",
   "name": "python3"
  },
  "language_info": {
   "codemirror_mode": {
    "name": "ipython",
    "version": 3
   },
   "file_extension": ".py",
   "mimetype": "text/x-python",
   "name": "python",
   "nbconvert_exporter": "python",
   "pygments_lexer": "ipython3",
   "version": "3.6.6"
  }
 },
 "nbformat": 4,
 "nbformat_minor": 2
}
