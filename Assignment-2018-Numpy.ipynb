{
 "cells": [
  {
   "cell_type": "markdown",
   "metadata": {},
   "source": [
    "# Programming for Data Analysis - Assignment 2018\n",
    "***\n",
    "### NumPy \n",
    "NumPy is the fundamental package for scientific computing with Python. It contains among other things a powerful N-dimensional array object. Besides its obvious scientific uses, NumPy can also be used as an efficient multi-dimensional container of generic data. \n",
    "***\n",
    "### Problem statement\n",
    "1. Explain the overall purpose of the package. \n",
    "2. Explain the use of the “Simple random data” and “Permutations” functions. \n",
    "3. Explain the use and purpose of at least ﬁve “Distributions” functions. \n",
    "4. Explain the use of seeds in generating pseudorandom numbers.\n",
    "***\n",
    "### References\n",
    "\n",
    "**[Numpy Library](https://docs.scipy.org/)**\n",
    "\n",
    "*https://docs.scipy.org/doc/numpy/reference/routines.random.html*\n",
    "***"
   ]
  },
  {
   "cell_type": "markdown",
   "metadata": {},
   "source": [
    "## 1. Purpose of the Package\n",
    "\n",
    "***\n",
    "Random Sampling is a sampling method in which all members of a group (population) have an equal and independent chance of being selected.The Numpy.random package helps generate random numbers like pick a random element from a list, pick a random card from a deck, flip a coin etc. without wrinting underneath code.\n",
    "***"
   ]
  },
  {
   "cell_type": "markdown",
   "metadata": {},
   "source": [
    "\n",
    "## 2. Use of \"Simple random data\" and \"Permutations\" functions\n",
    "\n",
    "***\n",
    "\n",
    "### <font color=blue> 2(a). Simple random data </font>       \n",
    " - All functions create a array of the given shape with random sample values\n",
    " \n",
    "<font color=blue>rand   </font>: Populate it with random samples from a uniform distribution over (0,1)<br>\n",
    "<font color=blue>randn  </font>: Returns a random float sample with normal distribution of mean 0 and variance 1 <br>\n",
    "<font color=blue>randint</font>:Returns a random integers from low (inclusive) to high (exclusive)<br>\n",
    "<font color=blue>random_integers</font>:Returns integers of type np.int between low and high, inclusive.<br>\n",
    "<font color=blue>random_sample</font>:Returns random floats in the half open interval [0.0, 1.0}\n",
    " \n",
    " - <font color=green>random</font>:Returns random floats in the half open interval [0.0, 1.0}<br>\n",
    " - <font color=green>randf</font>:Returns random floats in the half open interval [0.0, 1.0} <br>\n",
    " - <font color=green>sample</font>:Returns random floats in the half open interval [0.0, 1.0} <br>\n",
    " \n",
    "<font color=blue>choice</font>: Generates a random sample from a given 1-D array <br>\n",
    "<font color=blue>bytes</font>: Return random bytes <br>\n",
    "\n",
    "***\n"
   ]
  },
  {
   "cell_type": "code",
   "execution_count": 24,
   "metadata": {},
   "outputs": [],
   "source": [
    "# Usage of Simple randam functions \n",
    "# rand, randn, randint, random_integers,random_sample,random,ranf,sample,choice and bytes\n",
    "\n",
    "import numpy as np\n",
    "\n",
    "#Ignore the depricated warnings\n",
    "import warnings\n",
    "warnings.filterwarnings(\"ignore\")\n"
   ]
  },
  {
   "cell_type": "code",
   "execution_count": 25,
   "metadata": {},
   "outputs": [
    {
     "name": "stdout",
     "output_type": "stream",
     "text": [
      "Results of rand            function : array([0.07483275, 0.19934135])\n",
      "Results of randn           function : array([-1.61095354,  1.94206898, -0.29534606,  0.2058713 ,  2.13180433])\n",
      "Results of randint         function : array([3, 2, 3, 2, 1])\n",
      "Results of random_integers function : 5\n",
      "Results of random_sample   function : array([0.89337059, 0.25579397, 0.43650644, 0.51694605, 0.81242664])\n",
      "Results of random          function : array([0.05831912, 0.04206352, 0.62054949, 0.54229088, 0.33687643])\n",
      "Results of ranf            function : array([0.48837898, 0.20146034, 0.06302599, 0.29213609, 0.67942153])\n",
      "Results of sample          function : array([0.83724685, 0.32190186, 0.56645359, 0.76613551, 0.7234123 ])\n",
      "Results of choice          function : 2\n",
      "Results of bytes           function : b'\\xd6\\xa7\\xd6\\x92T'\n"
     ]
    }
   ],
   "source": [
    "\n",
    "#Print the function name and the results\n",
    "\n",
    "print (\"Results of rand            function\"+ \" : \"+ '{0!r}'.format(np.random.rand(2)))\n",
    "print (\"Results of randn           function\"+ \" : \"+ '{0!r}'.format(np.random.randn(5)))\n",
    "print (\"Results of randint         function\"+ \" : \"+ '{0!r}'.format(np.random.randint(5, size=5)))\n",
    "print (\"Results of random_integers function\"+ \" : \"+ '{0!r}'.format(np.random.random_integers(5)))\n",
    "print (\"Results of random_sample   function\"+ \" : \"+ '{0!r}'.format(np.random.random_sample(5,)))\n",
    "print (\"Results of random          function\"+ \" : \"+ '{0!r}'.format(np.random.random(5,)))\n",
    "print (\"Results of ranf            function\"+ \" : \"+ '{0!r}'.format(np.random.ranf(5,)))\n",
    "print (\"Results of sample          function\"+ \" : \"+ '{0!r}'.format(np.random.sample(5,)))\n",
    "print (\"Results of choice          function\"+ \" : \"+ '{0!r}'.format(np.random.choice(5,)))\n",
    "print (\"Results of bytes           function\"+ \" : \"+ '{0!r}'.format(np.random.bytes(5)))\n"
   ]
  },
  {
   "cell_type": "markdown",
   "metadata": {},
   "source": [
    "***\n",
    "\n",
    "### <font color=blue> 2(b).Permutations </font>  \n",
    "\n",
    "The two permutation functions in scipy is mentioned below\n",
    " \n",
    "<font color=blue>shuffle</font>: Modify a sequence in-place by shuffling its contents.<br>\n",
    "<font color=blue>permutation</font>: Randomly permute a sequence, or return a permuted range.<br>\n",
    "\n",
    "***\n"
   ]
  },
  {
   "cell_type": "code",
   "execution_count": 43,
   "metadata": {},
   "outputs": [
    {
     "name": "stdout",
     "output_type": "stream",
     "text": [
      "Results of shuffle            function : array([4, 0, 1, 2, 3])\n",
      "Results of permutation        function : array([3, 2, 1, 4, 5])\n"
     ]
    }
   ],
   "source": [
    "# Usage of Permutations functions # import numpy library\n",
    "import numpy as np\n",
    "\n",
    "#Define the size, #Define the size, \n",
    "arr = np.arange(5)\n",
    "np.random.shuffle(arr)\n",
    "\n",
    "#Print the function name and the results\n",
    "print (\"Results of shuffle            function\"+ \" : \"+ '{0!r}'.format(arr))\n",
    "print (\"Results of permutation        function\"+ \" : \"+ '{0!r}'.format(np.random.permutation([1, 2, 3, 4, 5])))\n"
   ]
  },
  {
   "cell_type": "markdown",
   "metadata": {},
   "source": [
    "\n",
    "## 3. Use and purpose of ﬁve “Distributions” functions\n",
    "***"
   ]
  },
  {
   "cell_type": "markdown",
   "metadata": {},
   "source": [
    "**<font color=blue> 3 (a). numpy.random.power </font>**\n",
    "***\n",
    "**Power distribution** is a functional relationship between two quantities, where a relative change in one quantity results in a proportional relative change in the other quantity, independent of the initial size of those quantities: one quantity varies as a power of another. Example: considering the area of a square in terms of the length of its side, if the length is doubled, the area is multiplied by a factor of four\n",
    "\n",
    "\n",
    "**Purpose**\n",
    " - Draws samples in [0, 1] from a power distribution with positive exponent a - 1.\n",
    " - The power function distribution is just the inverse of the Pareto distribution  <br>\n",
    "\n",
    "**Use**\n",
    " - Used in modeling the over-reporting of insurance claims.\n",
    " ***"
   ]
  },
  {
   "cell_type": "code",
   "execution_count": 46,
   "metadata": {},
   "outputs": [
    {
     "data": {
      "image/png": "[encoded data removed]",
      "text/plain": [
       "<Figure size 432x288 with 1 Axes>"
      ]
     },
     "metadata": {
      "needs_background": "light"
     },
     "output_type": "display_data"
    }
   ],
   "source": [
    "#import numpy library and maplot library\n",
    "import numpy as np\n",
    "import matplotlib.pyplot as plt\n",
    "\n",
    "#variable declarations and value definitions.  a -> exponent; samples -> Number of Samples\n",
    "#Use random power to generate samples and store the values in the variable s \n",
    "a, samples, s, x = 10, 500, np.random.power(a, samples), np.linspace(0, 1, 100)\n",
    "\n",
    "# calculate the Y value using power distribution funtion\n",
    "y = a*x**(a-1.)\n",
    "# Plot the histogram with the values of s; ignore the warning messages\n",
    "count, bins, ignored = plt.hist(s)\n",
    "\n",
    "#calculate normalised y and plot the graph\n",
    "normed_y = samples*np.diff(bins)[0]*y\n",
    "plt.plot(x, normed_y)\n",
    "plt.show()"
   ]
  },
  {
   "cell_type": "markdown",
   "metadata": {},
   "source": [
    "**<font color=blue>3 (b). numpy.random.normal </font>**\n",
    "***\n",
    "**Normal distribution** is a probability function that describes how the values of a variable are distributed. It is a symmetric distribution where most of the observations cluster around the central peak and the probabilities for values further away from the mean tap\n",
    "\n",
    "**Purpose**\n",
    "- Draw random samples from a normal (Gaussian) distribution.\n",
    "- The normal distributions occurs often in nature.  it describes the commonly occurring distribution of \n",
    "   samples influenced by a large number of tiny, random disturbances, each with its own unique distribution. \n",
    "\n",
    "**Use**\n",
    " - Statiscal theory\n",
    "***"
   ]
  },
  {
   "cell_type": "code",
   "execution_count": 38,
   "metadata": {},
   "outputs": [
    {
     "data": {
      "image/png": "[encoded data removed]",
      "text/plain": [
       "<Figure size 432x288 with 1 Axes>"
      ]
     },
     "metadata": {
      "needs_background": "light"
     },
     "output_type": "display_data"
    }
   ],
   "source": [
    "#import numpy library and maplot library\n",
    "import numpy as np\n",
    "import matplotlib.pyplot as plt\n",
    "\n",
    "# mean and standard deviation\n",
    "mu, sigma, s  = 0, 0.1, np.random.normal(mu, sigma, 1000)\n",
    "\n",
    "#histogram  and plot the graph\n",
    "count, bins, ignored = plt.hist(s, 30, density=True)\n",
    "plt.plot(bins, 1/(sigma * np.sqrt(2 * np.pi)) * np.exp( - (bins - mu)**2 / (2 * sigma**2) ), linewidth=2, color='r')\n",
    "plt.show()"
   ]
  },
  {
   "cell_type": "markdown",
   "metadata": {},
   "source": [
    "**<font color=blue>3 (c). numpy.random.ZIPF </font>**\n",
    "***\n",
    "**Purpose**\n",
    "- The Zipf distribution is also known as the zeta distribution. It is a continuous probability distribution that satisfies Zipf’s law: the frequency of an item is inversely proportional to its rank in a frequency table.\n",
    "- numpy.random.zipf(a, size=None)  \n",
    "a -> Distribution paramete and should be greater than 1. \n",
    "Size -> Output shape\n",
    "\n",
    "**Use**\n",
    " - Linguistics and insurance Modelling\n",
    "***"
   ]
  },
  {
   "cell_type": "code",
   "execution_count": 103,
   "metadata": {},
   "outputs": [
    {
     "name": "stdout",
     "output_type": "stream",
     "text": [
      "[  1   1   1   3   1 218   1   5   3   5]\n",
      "[1.55054610e+00 3.87636524e-01 1.72282900e-01 9.69091310e-02\n",
      " 6.20218439e-02 4.30707249e-02 3.16437979e-02 2.42272828e-02\n",
      " 1.91425444e-02 1.55054610e-02 1.28144306e-02 1.07676812e-02\n",
      " 9.17482897e-03 7.91094947e-03 6.89131599e-03 6.05682069e-03\n",
      " 5.36521141e-03 4.78563610e-03 4.29514154e-03 3.87636524e-03\n",
      " 3.51597754e-03 3.20360764e-03 2.93108903e-03 2.69192031e-03\n",
      " 2.48087375e-03 2.29370724e-03 2.12694938e-03 1.97773737e-03\n",
      " 1.84369334e-03 1.72282900e-03 1.61347148e-03 1.51420517e-03\n",
      " 1.42382562e-03 1.34130285e-03 1.26575192e-03 1.19640903e-03\n",
      " 1.13261220e-03 1.07378539e-03 1.01942544e-03 9.69091310e-04\n",
      " 9.22395061e-04 8.78994386e-04 8.38586315e-04 8.00901909e-04\n",
      " 7.65701776e-04 7.32772257e-04 7.01922181e-04 6.72980077e-04\n",
      " 6.45791794e-04 6.20218439e-04 5.96134601e-04 5.73426811e-04\n",
      " 5.51992202e-04 5.31737345e-04 5.12577222e-04 4.94434342e-04\n",
      " 4.77237949e-04 4.60923334e-04 4.45431226e-04 4.30707249e-04\n",
      " 4.16701450e-04 4.03367871e-04 3.90664172e-04 3.78551293e-04\n",
      " 3.66993159e-04 3.55956404e-04 3.45410135e-04 3.35325713e-04\n",
      " 3.25676559e-04 3.16437979e-04 3.07587006e-04 2.99102256e-04\n",
      " 2.90963801e-04 2.83153049e-04 2.75652639e-04 2.68446346e-04\n",
      " 2.61518991e-04 2.54856360e-04 2.48445136e-04 2.42272828e-04\n",
      " 2.36327709e-04 2.30598765e-04 2.25075642e-04 2.19748596e-04\n",
      " 2.14608456e-04 2.09646579e-04 2.04854815e-04 2.00225477e-04\n",
      " 1.95751306e-04 1.91425444e-04 1.87241408e-04 1.83193064e-04\n",
      " 1.79274609e-04 1.75480545e-04 1.71805662e-04 1.68245019e-04\n",
      " 1.64793931e-04 1.61447948e-04 1.58202846e-04]\n"
     ]
    },
    {
     "data": {
      "image/png": "[encoded data removed]",
      "text/plain": [
       "<Figure size 432x288 with 1 Axes>"
      ]
     },
     "metadata": {
      "needs_background": "light"
     },
     "output_type": "display_data"
    }
   ],
   "source": [
    "# parameter and random sample generation\n",
    "a, s, x, y  = 2, np.random.zipf(a, 10), np.arange(1., 100.), x**(-a) / special.zetac(a)\n",
    "\n",
    "import matplotlib.pyplot as plt\n",
    "from scipy import special\n",
    "\n",
    "print (s)\n",
    "print (y)\n",
    "\n",
    "#histogram  and plot the graph\n",
    "count, bins, ignored = plt.hist(s[s<50], 50, density=True)\n",
    "plt.plot(x, y/max(y), linewidth=2, color='r')\n",
    "plt.show()"
   ]
  },
  {
   "cell_type": "markdown",
   "metadata": {},
   "source": [
    "**<font color=blue> 3 (d). numpy.random.binomial</font>**\n",
    "***\n",
    "**Purpose**\n",
    "- Samples are drawn from a binomial distribution with specified parameters, n trials and p probability of success where n an integer >= 0 and p is in the interval [0,1].   \n",
    "- numpy.random.binomial(n, p, size=None) ::: n: >= 0 ::: p: >= 0 and <=1 ::: Size: Output shape\n",
    "- Each replication of the process results in one of two possible outcomes (success or failure)\n",
    "- The replications are independent, meaning here that a success in one patient does not influence the probability of success in another.\n",
    "***\n",
    "\n",
    "**Use with an example**\n",
    "\n",
    "Consider that the likelihood a patient with a heart attack dies of the attack is 0.03 (3%)\n",
    "\n",
    "Suppose we have 5 patients, who suffer a heart attack, what is the probability that all will survive? \n",
    "\n",
    "- Input parameter: Success a fatal attack (p = 0.03)\n",
    "- Input parameter: Number of Patients n=5  \n",
    "- Output: Calculate the probability that all will survive\n",
    "***"
   ]
  },
  {
   "cell_type": "code",
   "execution_count": 104,
   "metadata": {},
   "outputs": [
    {
     "name": "stdout",
     "output_type": "stream",
     "text": [
      "There is an 91.0% probability that all patients will survive the attack\n"
     ]
    }
   ],
   "source": [
    "#Success a fatal attack (p = 0.03)\n",
    "#Number of Patients n=5  \n",
    "import numpy as np\n",
    "\n",
    "#Calculate the percentage of survival probability\n",
    "percentage = (sum(np.random.binomial(5, 0.03, 100) == 0)/100) * 100\n",
    "\n",
    "print (\"There is an \" + str(percentage) + \"% probability that all patients will survive the attack\")"
   ]
  },
  {
   "cell_type": "markdown",
   "metadata": {},
   "source": [
    "**<font color=blue> 3 (e). numpy.random.uniform</font>**\n",
    "***\n",
    "**Uniform Distribution** also called a rectangular distribution, is a probability distribution that has constant probability.\n",
    "\n",
    "**Purpose**\n",
    "- Samples are uniformly distributed over the half-open interval [low, high] (includes low, but excludes high). \n",
    "\n",
    "**Use with an example**\n",
    "***"
   ]
  },
  {
   "cell_type": "code",
   "execution_count": 152,
   "metadata": {},
   "outputs": [
    {
     "data": {
      "text/plain": [
       "25.35062359313664"
      ]
     },
     "execution_count": 152,
     "metadata": {},
     "output_type": "execute_result"
    }
   ],
   "source": [
    "average = []\n",
    "for i in range (0,500):\n",
    "    lst = np.random.uniform(1,50,10)\n",
    "    s= sum (lst)\n",
    "    l = len (lst)\n",
    "    average.append(s/l)\n",
    "\n",
    "sum(average)/len(average)"
   ]
  },
  {
   "cell_type": "code",
   "execution_count": null,
   "metadata": {},
   "outputs": [],
   "source": []
  },
  {
   "cell_type": "code",
   "execution_count": null,
   "metadata": {},
   "outputs": [],
   "source": []
  },
  {
   "cell_type": "code",
   "execution_count": null,
   "metadata": {},
   "outputs": [],
   "source": []
  },
  {
   "cell_type": "code",
   "execution_count": null,
   "metadata": {},
   "outputs": [],
   "source": []
  }
 ],
 "metadata": {
  "kernelspec": {
   "display_name": "Python 3",
   "language": "python",
   "name": "python3"
  },
  "language_info": {
   "codemirror_mode": {
    "name": "ipython",
    "version": 3
   },
   "file_extension": ".py",
   "mimetype": "text/x-python",
   "name": "python",
   "nbconvert_exporter": "python",
   "pygments_lexer": "ipython3",
   "version": "3.6.6"
  }
 },
 "nbformat": 4,
 "nbformat_minor": 2
}
