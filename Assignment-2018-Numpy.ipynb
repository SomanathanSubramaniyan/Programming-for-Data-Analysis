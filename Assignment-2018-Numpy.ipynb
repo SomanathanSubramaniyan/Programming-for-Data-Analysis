{
 "cells": [
  {
   "cell_type": "markdown",
   "metadata": {},
   "source": [
    "# Programming for Data Analysis - Assignment 2018\n",
    "### NumPy \n",
    "NumPy is the fundamental package for scientific computing with Python. It contains among other things a powerful N-dimensional array object. Besides its obvious scientific uses, NumPy can also be used as an efficient multi-dimensional container of generic data. \n",
    "### Problem statement\n",
    "1. Explain the overall purpose of the package. \n",
    "2. Explain the use of the “Simple random data” and “Permutations” functions. \n",
    "3. Explain the use and purpose of at least ﬁve “Distributions” functions. \n",
    "4. Explain the use of seeds in generating pseudorandom numbers."
   ]
  },
  {
   "cell_type": "markdown",
   "metadata": {},
   "source": [
    "## 1. Purpose of the Package\n",
    "Random Sampling is a sampling method in which all members of a group (population) have an equal and independent chance of being selected.The Numpy.random package helps generate random numbers like pick a random element from a list, pick a random card from a deck, flip a coin etc. without wrinting underneath code.\n",
    "\n"
   ]
  },
  {
   "cell_type": "markdown",
   "metadata": {},
   "source": [
    "\n",
    "## 2. Use of \"Simple random data\" and \"Permutations\" functions\n",
    "\n",
    "### <font color=blue> Simple random data </font>       \n",
    " - All functions create a array of the given shape with random sample values\n",
    " \n",
    "<font color=blue>rand   </font>: Populate it with random samples from a uniform distribution over (0,1)<br>\n",
    "<font color=blue>randn  </font>: Returns a random float sample with normal distribution of mean 0 and variance 1 <br>\n",
    "<font color=blue>randint</font>:Returns a random integers from low (inclusive) to high (exclusive)<br>\n",
    "<font color=blue>random_integers</font>:Returns integers of type np.int between low and high, inclusive.<br>\n",
    "<font color=blue>random_sample</font>:Returns random floats in the half open interval [0.0, 1.0}\n",
    " \n",
    " - <font color=green>random</font>:Returns random floats in the half open interval [0.0, 1.0}<br>\n",
    " - <font color=green>randf</font>:Returns random floats in the half open interval [0.0, 1.0} <br>\n",
    " - <font color=green>sample</font>:Returns random floats in the half open interval [0.0, 1.0} <br>\n",
    " \n",
    "<font color=blue>choice</font>: Generates a random sample from a given 1-D array <br>\n",
    "<font color=blue>bytes</font>: Return random bytes <br>"
   ]
  },
  {
   "cell_type": "code",
   "execution_count": 25,
   "metadata": {},
   "outputs": [
    {
     "name": "stdout",
     "output_type": "stream",
     "text": [
      "Results of rand            function : array([0.66776032, 0.96833306])\n",
      "Results of randn           function : array([ 0.04083005,  0.25202067,  0.02823434, -1.42485141,  1.88993164])\n",
      "Results of randint         function : array([1, 3, 0, 4, 3])\n",
      "Results of random_integers function : 1\n",
      "Results of random_sample   function : array([0.23423334, 0.95834716, 0.49118199, 0.27454707, 0.02413377])\n",
      "Results of random          function : array([0.72710229, 0.55943601, 0.27090872, 0.48017381, 0.80940685])\n",
      "Results of ranf            function : array([0.7430931 , 0.37749645, 0.95147334, 0.32351715, 0.0945707 ])\n",
      "Results of sample          function : array([0.81947229, 0.97080942, 0.88295396, 0.41063876, 0.7052184 ])\n",
      "Results of choice          function : 2\n",
      "Results of bytes           function : b'\\xb7\\x02DZ\\xa8'\n"
     ]
    }
   ],
   "source": [
    "# Usage of Simple randam functions \n",
    "# rand, randn, randint, random_integers,random_sample,random,ranf,sample,choice and bytes\n",
    "\n",
    "import numpy as np\n",
    "\n",
    "#Ignore the depricated warnings\n",
    "import warnings\n",
    "warnings.filterwarnings(\"ignore\")\n",
    "\n",
    "print (\"Results of rand            function\"+ \" : \"+ '{0!r}'.format(np.random.rand(2)))\n",
    "print (\"Results of randn           function\"+ \" : \"+ '{0!r}'.format(np.random.randn(5)))\n",
    "print (\"Results of randint         function\"+ \" : \"+ '{0!r}'.format(np.random.randint(5, size=5)))\n",
    "print (\"Results of random_integers function\"+ \" : \"+ '{0!r}'.format(np.random.random_integers(5)))\n",
    "print (\"Results of random_sample   function\"+ \" : \"+ '{0!r}'.format(np.random.random_sample(5,)))\n",
    "print (\"Results of random          function\"+ \" : \"+ '{0!r}'.format(np.random.random(5,)))\n",
    "print (\"Results of ranf            function\"+ \" : \"+ '{0!r}'.format(np.random.ranf(5,)))\n",
    "print (\"Results of sample          function\"+ \" : \"+ '{0!r}'.format(np.random.sample(5,)))\n",
    "print (\"Results of choice          function\"+ \" : \"+ '{0!r}'.format(np.random.choice(5,)))\n",
    "print (\"Results of bytes           function\"+ \" : \"+ '{0!r}'.format(np.random.bytes(5)))"
   ]
  },
  {
   "cell_type": "markdown",
   "metadata": {},
   "source": [
    "### <font color=blue> Permutations </font>       \n",
    " \n",
    "<font color=blue>shuffle</font>: Modify a sequence in-place by shuffling its contents.<br>\n",
    "<font color=blue>permutation</font>: Randomly permute a sequence, or return a permuted range.<br>\n"
   ]
  },
  {
   "cell_type": "code",
   "execution_count": 20,
   "metadata": {},
   "outputs": [
    {
     "name": "stdout",
     "output_type": "stream",
     "text": [
      "Results of shuffle            function : array([1, 4, 3, 0, 2])\n",
      "Results of permutation        function : array([4, 5, 3, 1, 2])\n"
     ]
    }
   ],
   "source": [
    "# Usage of Permutations functions \n",
    "# shuffle and permutation\n",
    "import numpy as np\n",
    "arr = np.arange(5)\n",
    "np.random.shuffle(arr)\n",
    "print (\"Results of shuffle            function\"+ \" : \"+ '{0!r}'.format(arr))\n",
    "print (\"Results of permutation        function\"+ \" : \"+ '{0!r}'.format(np.random.permutation([1, 2, 3, 4, 5])))"
   ]
  },
  {
   "cell_type": "markdown",
   "metadata": {},
   "source": [
    "\n",
    "## 2. Use of \"Simple random data\" and \"Permutations\" functions"
   ]
  }
 ],
 "metadata": {
  "kernelspec": {
   "display_name": "Python 3",
   "language": "python",
   "name": "python3"
  },
  "language_info": {
   "codemirror_mode": {
    "name": "ipython",
    "version": 3
   },
   "file_extension": ".py",
   "mimetype": "text/x-python",
   "name": "python",
   "nbconvert_exporter": "python",
   "pygments_lexer": "ipython3",
   "version": "3.6.6"
  }
 },
 "nbformat": 4,
 "nbformat_minor": 2
}
